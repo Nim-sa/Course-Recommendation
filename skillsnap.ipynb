{
 "cells": [
  {
   "cell_type": "code",
   "execution_count": null,
   "id": "4b3de498",
   "metadata": {},
   "outputs": [],
   "source": [
    "import pandas as pd\n",
    "\n",
    "# === Load each dataset ===\n",
    "coursera = pd.read_csv(\"coursera.csv\")  # Replace with your filename\n",
    "udemy = pd.read_csv(\"udemy_courses.csv\")\n",
    "edx = pd.read_csv(\"edx_courses.csv\")\n",
    "\n",
    "# === Clean and rename columns ===\n",
    "\n",
    "# --- Coursera ---\n",
    "coursera = coursera.rename(columns={\n",
    "    \"Course Name\": \"course_title\",\n",
    "    \"Rating\": \"rating\",\n",
    "    \"Difficulty Level\": \"level\",\n",
    "    \"Subjects\": \"tags\"\n",
    "})\n",
    "coursera[\"platform\"] = \"Coursera\"\n",
    "coursera = coursera[[\"course_title\", \"platform\", \"tags\", \"level\", \"rating\"]]\n",
    "\n",
    "# --- Udemy ---\n",
    "udemy = udemy.rename(columns={\n",
    "    \"title\": \"course_title\",\n",
    "    \"level\": \"level\",\n",
    "    \"subject\": \"tags\",\n",
    "    \"num_subscribers\": \"rating\"  # We use subscribers as proxy since actual rating may not be present\n",
    "})\n",
    "udemy[\"platform\"] = \"Udemy\"\n",
    "udemy[\"rating\"] = udemy[\"rating\"].apply(lambda x: min(x / 1000, 5))  # Normalize to 0–5\n",
    "udemy = udemy[[\"course_title\", \"platform\", \"tags\", \"level\", \"rating\"]]\n",
    "\n",
    "# --- edX ---\n",
    "edx = edx.rename(columns={\n",
    "    \"course_title\": \"course_title\",\n",
    "    \"difficulty\": \"level\",\n",
    "    \"subject\": \"tags\"\n",
    "})\n",
    "edx[\"platform\"] = \"edX\"\n",
    "edx[\"rating\"] = 4.0  # edX dataset often lacks ratings; you can assign a default\n",
    "edx = edx[[\"course_title\", \"platform\", \"tags\", \"level\", \"rating\"]]\n",
    "\n",
    "# === Combine all datasets ===\n",
    "combined_df = pd.concat([coursera, udemy, edx], ignore_index=True)\n",
    "\n",
    "# === Clean values ===\n",
    "combined_df[\"tags\"] = combined_df[\"tags\"].fillna(\"\").astype(str).str.replace(\",\", \";\").str.replace(\"|\", \";\")\n",
    "combined_df[\"level\"] = combined_df[\"level\"].fillna(\"Beginner\")\n",
    "combined_df[\"rating\"] = combined_df[\"rating\"].fillna(0)\n",
    "\n",
    "# === Save final merged file ===\n",
    "combined_df.to_csv(\"courses.csv\", index=False)\n",
    "print(\"✅ Merged dataset saved as courses.csv with\", len(combined_df), \"courses.\")\n"
   ]
  },
  {
   "cell_type": "code",
   "execution_count": 10,
   "id": "1558ec36",
   "metadata": {},
   "outputs": [
    {
     "name": "stdout",
     "output_type": "stream",
     "text": [
      "['Unnamed: 0', 'course_title', 'course_organization', 'course_Certificate_type', 'course_rating', 'course_difficulty', 'course_students_enrolled', 'platform']\n"
     ]
    }
   ],
   "source": [
    "print(coursera.columns.tolist())"
   ]
  }
 ],
 "metadata": {
  "kernelspec": {
   "display_name": "base",
   "language": "python",
   "name": "python3"
  },
  "language_info": {
   "codemirror_mode": {
    "name": "ipython",
    "version": 3
   },
   "file_extension": ".py",
   "mimetype": "text/x-python",
   "name": "python",
   "nbconvert_exporter": "python",
   "pygments_lexer": "ipython3",
   "version": "3.12.7"
  }
 },
 "nbformat": 4,
 "nbformat_minor": 5
}
